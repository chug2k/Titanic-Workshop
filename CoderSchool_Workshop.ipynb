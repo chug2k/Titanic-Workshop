{
  "nbformat": 4,
  "nbformat_minor": 0,
  "metadata": {
    "colab": {
      "name": "CoderSchool-Workshop",
      "version": "0.3.2",
      "provenance": [],
      "include_colab_link": true
    },
    "kernelspec": {
      "name": "python2",
      "display_name": "Python 2"
    }
  },
  "cells": [
    {
      "cell_type": "markdown",
      "metadata": {
        "id": "view-in-github",
        "colab_type": "text"
      },
      "source": [
        "[View in Colaboratory](https://colab.research.google.com/github/chug2k/Titanic-Workshop/blob/master/CoderSchool_Workshop.ipynb)"
      ]
    },
    {
      "metadata": {
        "id": "Xb69btYlHLeY",
        "colab_type": "text"
      },
      "cell_type": "markdown",
      "source": [
        "# Welcome to CoderSchool's Workshop.\n",
        "\n",
        "Today we'll be going predicting who lived or died on the HMS Titanic.\n",
        "\n",
        "![alt text](https://upload.wikimedia.org/wikipedia/commons/thumb/d/db/Titanic-Cobh-Harbour-1912.JPG/330px-Titanic-Cobh-Harbour-1912.JPG)\n",
        "\n",
        "If these steps are new to you, don't worry, the isntructor will help. "
      ]
    },
    {
      "metadata": {
        "id": "8sAmNIuFHi2Y",
        "colab_type": "text"
      },
      "cell_type": "markdown",
      "source": [
        "## Initialization Code\n",
        "\n",
        "Here we'll just do a few simple things to download our data and load it. Don't worry about this step too much; just click \"run\" and you'll be done with it."
      ]
    },
    {
      "metadata": {
        "id": "YYPBuu6JsR1A",
        "colab_type": "code",
        "colab": {}
      },
      "cell_type": "code",
      "source": [
        "import numpy as np\n",
        "import pandas as pd\n",
        "import seaborn as sns\n",
        "%matplotlib inline\n",
        "!wget https://raw.githubusercontent.com/chug2k/Titanic-Workshop/master/titanic_visualizations.py\n",
        "!wget https://raw.githubusercontent.com/chug2k/Titanic-Workshop/master/train.csv\n",
        "from titanic_visualizations import survival_stats\n",
        "\n",
        "# Load the dataset\n",
        "in_file = 'train.csv'\n",
        "full_data = pd.read_csv(in_file)\n",
        "\n",
        "# Print the first few entries of the RMS Titanic data\n",
        "full_data.head()"
      ],
      "execution_count": 0,
      "outputs": []
    },
    {
      "metadata": {
        "id": "wAtVLPgDHyaM",
        "colab_type": "text"
      },
      "cell_type": "markdown",
      "source": [
        "## Data Cleanup\n",
        "\n",
        "One common thing you'll have to do is _data engineering_. Here, we'll do a simple trivial example where we'll remove the \"Survived\" column from our dataset, and save it under \"outcomes\". We're doing this because that's the column we want to predict. \n",
        "\n",
        "Below we've also defined a utility function to predict scores."
      ]
    },
    {
      "metadata": {
        "id": "ZnmO-HJ2tN1n",
        "colab_type": "code",
        "colab": {}
      },
      "cell_type": "code",
      "source": [
        "outcomes = full_data['Survived']\n",
        "data = full_data.drop('Survived', axis = 1)\n",
        "data.head()\n",
        "\n",
        "def accuracy_score(truth, pred, name):\n",
        "    \"\"\" Returns accuracy score for input truth and predictions. \"\"\"\n",
        "\n",
        "    if len(truth) == len(pred):\n",
        "        # Calculate and return the accuracy as a percent\n",
        "        # {:2f}.format((truth == pred).mean()*100)\n",
        "        # \":\" represents format specification\n",
        "        # \"2f\" represents 2 decimal places\n",
        "        return \"{} Predictions have an accuracy of {:.2f}.\".format(name, (truth == pred).mean()*100)\n",
        "    else:\n",
        "        return \"Number of predictions does not match number of outcomes!\"\n",
        "\n"
      ],
      "execution_count": 0,
      "outputs": []
    },
    {
      "metadata": {
        "id": "UOaeC4NmwpcC",
        "colab_type": "code",
        "colab": {}
      },
      "cell_type": "code",
      "source": [
        "\n",
        "\n",
        "def predict_everyone_survives():\n",
        "  return pd.Series(np.ones(outcomes.size, dtype = int))\n",
        "\n",
        "def predict_everyone_dies():\n",
        "  return pd.Series(np.zeros(outcomes.size, dtype = int))\n",
        "  \n",
        "\n",
        "predictions = predict_everyone_survives()\n",
        "\n",
        "print(accuracy_score(outcomes, predictions, \"Everyone Survived\"))\n",
        "\n",
        "predictions = predict_everyone_dies()\n",
        "\n",
        "print(accuracy_score(outcomes, predictions, \"Everyone Died\"))\n",
        "\n",
        "\n"
      ],
      "execution_count": 0,
      "outputs": []
    },
    {
      "metadata": {
        "id": "msHpQN4NINNN",
        "colab_type": "text"
      },
      "cell_type": "markdown",
      "source": [
        "## Exploring Data\n",
        "\n",
        "We have a utility graph function called survival_stats. Let's use it and explore a few different features..."
      ]
    },
    {
      "metadata": {
        "id": "FoXwsFkH4Srp",
        "colab_type": "code",
        "colab": {}
      },
      "cell_type": "code",
      "source": [
        "survival_stats(data, outcomes, 'Sex')\n"
      ],
      "execution_count": 0,
      "outputs": []
    },
    {
      "metadata": {
        "id": "_ons56xj6wdH",
        "colab_type": "code",
        "colab": {}
      },
      "cell_type": "code",
      "source": [
        "def predict_men_died():\n",
        "   \"\"\" Model with one feature: \n",
        "            - Predict a passenger survived if they are female. \"\"\"\n",
        "   predictions = []\n",
        "   for index, passenger in data.iterrows():\n",
        "        if passenger['Sex'] == 'female':\n",
        "            predictions.append(1)\n",
        "        else:\n",
        "            predictions.append(0)\n",
        "\n",
        "            return pd.Series(predictions)\n",
        "\n",
        "# Make the predictions\n",
        "predictions = predict_men_died()\n",
        "print(accuracy_score(outcomes, predictions, \"Men Died\"))\n"
      ],
      "execution_count": 0,
      "outputs": []
    },
    {
      "metadata": {
        "id": "mcB7VRv77MZ8",
        "colab_type": "text"
      },
      "cell_type": "markdown",
      "source": [
        "## Simple Warmup Exercise: Write code to predict that all women died.\n"
      ]
    },
    {
      "metadata": {
        "id": "Q-6za0a6BwKl",
        "colab_type": "code",
        "colab": {}
      },
      "cell_type": "code",
      "source": [
        "def predict_women_died():\n",
        "      \"\"\" Model with two features: \n",
        "            - Predict a passenger survived if they are female.\n",
        "            - Predict a passenger survived if they are male and younger than 10. \"\"\"\n",
        "\n",
        "    predictions = []\n",
        "    for index, passenger in data.iterrows():\n",
        "        # Remove the 'pass' statement below \n",
        "        # and write your prediction conditions here\n",
        "        pass\n",
        "\n",
        "    # Return our predictions\n",
        "    return pd.Series(predictions)\n",
        "  \n",
        "predictions = predict_women_died()\n",
        "print(accuracy_score(outcomes, predictions, \"Women Died\"))"
      ],
      "execution_count": 0,
      "outputs": []
    },
    {
      "metadata": {
        "id": "Sw3qMLEyCNlf",
        "colab_type": "code",
        "colab": {}
      },
      "cell_type": "code",
      "source": [
        "survival_stats(data, outcomes, 'Age', [\"Sex == 'male'\"])"
      ],
      "execution_count": 0,
      "outputs": []
    },
    {
      "metadata": {
        "id": "Lecc9S0zCw3Q",
        "colab_type": "text"
      },
      "cell_type": "markdown",
      "source": [
        "## Second Exercise\n",
        "\n",
        "Looks like there's a strong correlation with age, for men.  Can you create a new function that returns a prediction that takes a man's age into account?\n",
        "\n",
        "In summary:\n",
        "* Women Survive.\n",
        "* Men who are older than 10 died."
      ]
    },
    {
      "metadata": {
        "id": "hzqj4MeVDIWr",
        "colab_type": "code",
        "colab": {}
      },
      "cell_type": "code",
      "source": [
        "def predictions_2():\n",
        "    \"\"\" Model with two features: \n",
        "            - Predict a passenger survived if they are female.\n",
        "            - Predict a passenger survived if they are male and younger than 10. \"\"\"\n",
        "\n",
        "    predictions = []\n",
        "    for index, passenger in data.iterrows():\n",
        "        # Remove the 'pass' statement below \n",
        "        # and write your prediction conditions here\n",
        "        pass\n",
        "\n",
        "    # Return our predictions\n",
        "    return pd.Series(predictions)\n",
        "  \n",
        "predictions = predictions_2()\n",
        "print(accuracy_score(outcomes, predictions, \"Men Over 10 Died\"))"
      ],
      "execution_count": 0,
      "outputs": []
    },
    {
      "metadata": {
        "id": "BhEPjzaHI6aD",
        "colab_type": "text"
      },
      "cell_type": "markdown",
      "source": [
        "## Final Exercise - Getting to 80%\n",
        "\n",
        "Exploring the data, I'm going to add one more attribute: Pclass. Looks like the rich people survived. "
      ]
    },
    {
      "metadata": {
        "id": "5AxZ7TlxGB4k",
        "colab_type": "code",
        "colab": {}
      },
      "cell_type": "code",
      "source": [
        "survival_stats(data, outcomes, 'Pclass')\n",
        "\n",
        "def predictions_3():\n",
        "    \"\"\" Model with two features: \n",
        "            - Predict a passenger survived if they are female.\n",
        "            - Predict a passenger survived if they are male and younger than 10. \"\"\"\n",
        "\n",
        "    predictions = []\n",
        "    for index, passenger in data.iterrows():\n",
        "        # Remove the 'pass' statement below \n",
        "        # and write your prediction conditions here\n",
        "        if passenger['Sex'] == 'female':\n",
        "            predictions.append(1)\n",
        "        elif (passenger['Sex'] == 'male') & (passenger['Age'] < 10) & (passenger['Pclass'] < 3):\n",
        "            predictions.append(1)\n",
        "        else:\n",
        "            predictions.append(0)\n",
        "\n",
        "\n",
        "    # Return our predictions\n",
        "    return pd.Series(predictions)\n",
        "  \n",
        "predictions = predictions_3()\n",
        "print(accuracy_score(outcomes, predictions, \"Men Over 10 Died\"))"
      ],
      "execution_count": 0,
      "outputs": []
    },
    {
      "metadata": {
        "id": "QUg-YrPvJEYe",
        "colab_type": "text"
      },
      "cell_type": "markdown",
      "source": [
        "## Reflection\n",
        "\n",
        "I think our classifier works, evidenced by the famous movie. Jack was PClass 3, Male, and over 10. \n",
        "\n",
        "![alt text](https://hips.hearstapps.com/hmg-prod.s3.amazonaws.com/images/titanic-jack-1485877267.gif?crop=1xw:1xh;center,top&resize=480:*)\n",
        "\n",
        "Rose was female, PClass 1. She had a good chance to survive. \n",
        "\n",
        "We could have skipped watching the movie and predicted the outcome from the beginning."
      ]
    }
  ]
}