{
  "nbformat": 4,
  "nbformat_minor": 0,
  "metadata": {
    "colab": {
      "name": "CoderSchool-Workshop",
      "version": "0.3.2",
      "provenance": [],
      "include_colab_link": true
    },
    "kernelspec": {
      "name": "python2",
      "display_name": "Python 2"
    }
  },
  "cells": [
    {
      "cell_type": "markdown",
      "metadata": {
        "id": "view-in-github",
        "colab_type": "text"
      },
      "source": [
        "[View in Colaboratory](https://colab.research.google.com/github/chug2k/Titanic-Workshop/blob/master/CoderSchool_Workshop.ipynb)"
      ]
    },
    {
      "metadata": {
        "id": "Xb69btYlHLeY",
        "colab_type": "text"
      },
      "cell_type": "markdown",
      "source": [
        "# Welcome to CoderSchool's Workshop.\n",
        "\n",
        "Today we'll be predicting who lived or died on the HMS Titanic.\n",
        "\n",
        "![alt text](https://upload.wikimedia.org/wikipedia/commons/thumb/d/db/Titanic-Cobh-Harbour-1912.JPG/330px-Titanic-Cobh-Harbour-1912.JPG)\n",
        "\n",
        "If these steps are new to you, don't worry, the isntructor will help. "
      ]
    },
    {
      "metadata": {
        "id": "8sAmNIuFHi2Y",
        "colab_type": "text"
      },
      "cell_type": "markdown",
      "source": [
        "## Initialization Code\n",
        "\n",
        "Here we'll just do a few simple things to download our data and load it. Don't worry about this step too much; just click \"run\" and you'll be done with it.\n",
        "\n",
        "To print your data, use `head`.\n",
        "\n",
        "```\n",
        "full_data.head()\n",
        "```"
      ]
    },
    {
      "metadata": {
        "id": "YYPBuu6JsR1A",
        "colab_type": "code",
        "colab": {
          "base_uri": "https://localhost:8080/",
          "height": 578
        },
        "outputId": "ca7350c0-d494-4ab4-ca05-3a7ffe1c581a"
      },
      "cell_type": "code",
      "source": [
        "import numpy as np\n",
        "import pandas as pd\n",
        "import seaborn as sns\n",
        "%matplotlib inline\n",
        "!wget https://raw.githubusercontent.com/chug2k/Titanic-Workshop/master/titanic_visualizations.py\n",
        "!wget https://raw.githubusercontent.com/chug2k/Titanic-Workshop/master/train.csv\n",
        "from titanic_visualizations import survival_stats\n",
        "\n",
        "# Load the dataset\n",
        "in_file = 'train.csv'\n",
        "full_data = pd.read_csv(in_file)"
      ],
      "execution_count": 1,
      "outputs": [
        {
          "output_type": "stream",
          "text": [
            "--2018-07-12 11:33:00--  https://raw.githubusercontent.com/chug2k/Titanic-Workshop/master/titanic_visualizations.py\r\n",
            "Resolving raw.githubusercontent.com (raw.githubusercontent.com)... 151.101.0.133, 151.101.64.133, 151.101.128.133, ...\n",
            "Connecting to raw.githubusercontent.com (raw.githubusercontent.com)|151.101.0.133|:443... connected.\n",
            "HTTP request sent, awaiting response... 200 OK\n",
            "Length: 5424 (5.3K) [text/plain]\n",
            "Saving to: ‘titanic_visualizations.py.4’\n",
            "\n",
            "titanic_visualizati 100%[===================>]   5.30K  --.-KB/s    in 0s      \n",
            "\n",
            "2018-07-12 11:33:00 (59.1 MB/s) - ‘titanic_visualizations.py.4’ saved [5424/5424]\n",
            "\n",
            "--2018-07-12 11:33:01--  https://raw.githubusercontent.com/chug2k/Titanic-Workshop/master/train.csv\n",
            "Resolving raw.githubusercontent.com (raw.githubusercontent.com)... 151.101.0.133, 151.101.64.133, 151.101.128.133, ...\n",
            "Connecting to raw.githubusercontent.com (raw.githubusercontent.com)|151.101.0.133|:443... connected.\n",
            "HTTP request sent, awaiting response... 200 OK\n",
            "Length: 61194 (60K) [text/plain]\n",
            "Saving to: ‘train.csv.3’\n",
            "\n",
            "train.csv.3         100%[===================>]  59.76K  --.-KB/s    in 0.03s   \n",
            "\n",
            "2018-07-12 11:33:01 (2.11 MB/s) - ‘train.csv.3’ saved [61194/61194]\n",
            "\n"
          ],
          "name": "stdout"
        },
        {
          "output_type": "execute_result",
          "data": {
            "text/html": [
              "<div>\n",
              "<style scoped>\n",
              "    .dataframe tbody tr th:only-of-type {\n",
              "        vertical-align: middle;\n",
              "    }\n",
              "\n",
              "    .dataframe tbody tr th {\n",
              "        vertical-align: top;\n",
              "    }\n",
              "\n",
              "    .dataframe thead th {\n",
              "        text-align: right;\n",
              "    }\n",
              "</style>\n",
              "<table border=\"1\" class=\"dataframe\">\n",
              "  <thead>\n",
              "    <tr style=\"text-align: right;\">\n",
              "      <th></th>\n",
              "      <th>PassengerId</th>\n",
              "      <th>Survived</th>\n",
              "      <th>Pclass</th>\n",
              "      <th>Name</th>\n",
              "      <th>Sex</th>\n",
              "      <th>Age</th>\n",
              "      <th>SibSp</th>\n",
              "      <th>Parch</th>\n",
              "      <th>Ticket</th>\n",
              "      <th>Fare</th>\n",
              "      <th>Cabin</th>\n",
              "      <th>Embarked</th>\n",
              "    </tr>\n",
              "  </thead>\n",
              "  <tbody>\n",
              "    <tr>\n",
              "      <th>0</th>\n",
              "      <td>1</td>\n",
              "      <td>0</td>\n",
              "      <td>3</td>\n",
              "      <td>Braund, Mr. Owen Harris</td>\n",
              "      <td>male</td>\n",
              "      <td>22.0</td>\n",
              "      <td>1</td>\n",
              "      <td>0</td>\n",
              "      <td>A/5 21171</td>\n",
              "      <td>7.2500</td>\n",
              "      <td>NaN</td>\n",
              "      <td>S</td>\n",
              "    </tr>\n",
              "    <tr>\n",
              "      <th>1</th>\n",
              "      <td>2</td>\n",
              "      <td>1</td>\n",
              "      <td>1</td>\n",
              "      <td>Cumings, Mrs. John Bradley (Florence Briggs Th...</td>\n",
              "      <td>female</td>\n",
              "      <td>38.0</td>\n",
              "      <td>1</td>\n",
              "      <td>0</td>\n",
              "      <td>PC 17599</td>\n",
              "      <td>71.2833</td>\n",
              "      <td>C85</td>\n",
              "      <td>C</td>\n",
              "    </tr>\n",
              "    <tr>\n",
              "      <th>2</th>\n",
              "      <td>3</td>\n",
              "      <td>1</td>\n",
              "      <td>3</td>\n",
              "      <td>Heikkinen, Miss. Laina</td>\n",
              "      <td>female</td>\n",
              "      <td>26.0</td>\n",
              "      <td>0</td>\n",
              "      <td>0</td>\n",
              "      <td>STON/O2. 3101282</td>\n",
              "      <td>7.9250</td>\n",
              "      <td>NaN</td>\n",
              "      <td>S</td>\n",
              "    </tr>\n",
              "    <tr>\n",
              "      <th>3</th>\n",
              "      <td>4</td>\n",
              "      <td>1</td>\n",
              "      <td>1</td>\n",
              "      <td>Futrelle, Mrs. Jacques Heath (Lily May Peel)</td>\n",
              "      <td>female</td>\n",
              "      <td>35.0</td>\n",
              "      <td>1</td>\n",
              "      <td>0</td>\n",
              "      <td>113803</td>\n",
              "      <td>53.1000</td>\n",
              "      <td>C123</td>\n",
              "      <td>S</td>\n",
              "    </tr>\n",
              "    <tr>\n",
              "      <th>4</th>\n",
              "      <td>5</td>\n",
              "      <td>0</td>\n",
              "      <td>3</td>\n",
              "      <td>Allen, Mr. William Henry</td>\n",
              "      <td>male</td>\n",
              "      <td>35.0</td>\n",
              "      <td>0</td>\n",
              "      <td>0</td>\n",
              "      <td>373450</td>\n",
              "      <td>8.0500</td>\n",
              "      <td>NaN</td>\n",
              "      <td>S</td>\n",
              "    </tr>\n",
              "  </tbody>\n",
              "</table>\n",
              "</div>"
            ],
            "text/plain": [
              "   PassengerId  Survived  Pclass  \\\n",
              "0            1         0       3   \n",
              "1            2         1       1   \n",
              "2            3         1       3   \n",
              "3            4         1       1   \n",
              "4            5         0       3   \n",
              "\n",
              "                                                Name     Sex   Age  SibSp  \\\n",
              "0                            Braund, Mr. Owen Harris    male  22.0      1   \n",
              "1  Cumings, Mrs. John Bradley (Florence Briggs Th...  female  38.0      1   \n",
              "2                             Heikkinen, Miss. Laina  female  26.0      0   \n",
              "3       Futrelle, Mrs. Jacques Heath (Lily May Peel)  female  35.0      1   \n",
              "4                           Allen, Mr. William Henry    male  35.0      0   \n",
              "\n",
              "   Parch            Ticket     Fare Cabin Embarked  \n",
              "0      0         A/5 21171   7.2500   NaN        S  \n",
              "1      0          PC 17599  71.2833   C85        C  \n",
              "2      0  STON/O2. 3101282   7.9250   NaN        S  \n",
              "3      0            113803  53.1000  C123        S  \n",
              "4      0            373450   8.0500   NaN        S  "
            ]
          },
          "metadata": {
            "tags": []
          },
          "execution_count": 1
        }
      ]
    },
    {
      "metadata": {
        "id": "a3doB8zpRQDK",
        "colab_type": "code",
        "colab": {
          "base_uri": "https://localhost:8080/",
          "height": 204
        },
        "outputId": "d98c4a25-c8cf-46ef-bd70-ad7190b18b60"
      },
      "cell_type": "code",
      "source": [
        "# I'm about to print out some code. \n",
        "\n",
        "full_data.head()"
      ],
      "execution_count": 2,
      "outputs": [
        {
          "output_type": "execute_result",
          "data": {
            "text/html": [
              "<div>\n",
              "<style scoped>\n",
              "    .dataframe tbody tr th:only-of-type {\n",
              "        vertical-align: middle;\n",
              "    }\n",
              "\n",
              "    .dataframe tbody tr th {\n",
              "        vertical-align: top;\n",
              "    }\n",
              "\n",
              "    .dataframe thead th {\n",
              "        text-align: right;\n",
              "    }\n",
              "</style>\n",
              "<table border=\"1\" class=\"dataframe\">\n",
              "  <thead>\n",
              "    <tr style=\"text-align: right;\">\n",
              "      <th></th>\n",
              "      <th>PassengerId</th>\n",
              "      <th>Survived</th>\n",
              "      <th>Pclass</th>\n",
              "      <th>Name</th>\n",
              "      <th>Sex</th>\n",
              "      <th>Age</th>\n",
              "      <th>SibSp</th>\n",
              "      <th>Parch</th>\n",
              "      <th>Ticket</th>\n",
              "      <th>Fare</th>\n",
              "      <th>Cabin</th>\n",
              "      <th>Embarked</th>\n",
              "    </tr>\n",
              "  </thead>\n",
              "  <tbody>\n",
              "    <tr>\n",
              "      <th>0</th>\n",
              "      <td>1</td>\n",
              "      <td>0</td>\n",
              "      <td>3</td>\n",
              "      <td>Braund, Mr. Owen Harris</td>\n",
              "      <td>male</td>\n",
              "      <td>22.0</td>\n",
              "      <td>1</td>\n",
              "      <td>0</td>\n",
              "      <td>A/5 21171</td>\n",
              "      <td>7.2500</td>\n",
              "      <td>NaN</td>\n",
              "      <td>S</td>\n",
              "    </tr>\n",
              "    <tr>\n",
              "      <th>1</th>\n",
              "      <td>2</td>\n",
              "      <td>1</td>\n",
              "      <td>1</td>\n",
              "      <td>Cumings, Mrs. John Bradley (Florence Briggs Th...</td>\n",
              "      <td>female</td>\n",
              "      <td>38.0</td>\n",
              "      <td>1</td>\n",
              "      <td>0</td>\n",
              "      <td>PC 17599</td>\n",
              "      <td>71.2833</td>\n",
              "      <td>C85</td>\n",
              "      <td>C</td>\n",
              "    </tr>\n",
              "    <tr>\n",
              "      <th>2</th>\n",
              "      <td>3</td>\n",
              "      <td>1</td>\n",
              "      <td>3</td>\n",
              "      <td>Heikkinen, Miss. Laina</td>\n",
              "      <td>female</td>\n",
              "      <td>26.0</td>\n",
              "      <td>0</td>\n",
              "      <td>0</td>\n",
              "      <td>STON/O2. 3101282</td>\n",
              "      <td>7.9250</td>\n",
              "      <td>NaN</td>\n",
              "      <td>S</td>\n",
              "    </tr>\n",
              "    <tr>\n",
              "      <th>3</th>\n",
              "      <td>4</td>\n",
              "      <td>1</td>\n",
              "      <td>1</td>\n",
              "      <td>Futrelle, Mrs. Jacques Heath (Lily May Peel)</td>\n",
              "      <td>female</td>\n",
              "      <td>35.0</td>\n",
              "      <td>1</td>\n",
              "      <td>0</td>\n",
              "      <td>113803</td>\n",
              "      <td>53.1000</td>\n",
              "      <td>C123</td>\n",
              "      <td>S</td>\n",
              "    </tr>\n",
              "    <tr>\n",
              "      <th>4</th>\n",
              "      <td>5</td>\n",
              "      <td>0</td>\n",
              "      <td>3</td>\n",
              "      <td>Allen, Mr. William Henry</td>\n",
              "      <td>male</td>\n",
              "      <td>35.0</td>\n",
              "      <td>0</td>\n",
              "      <td>0</td>\n",
              "      <td>373450</td>\n",
              "      <td>8.0500</td>\n",
              "      <td>NaN</td>\n",
              "      <td>S</td>\n",
              "    </tr>\n",
              "  </tbody>\n",
              "</table>\n",
              "</div>"
            ],
            "text/plain": [
              "   PassengerId  Survived  Pclass  \\\n",
              "0            1         0       3   \n",
              "1            2         1       1   \n",
              "2            3         1       3   \n",
              "3            4         1       1   \n",
              "4            5         0       3   \n",
              "\n",
              "                                                Name     Sex   Age  SibSp  \\\n",
              "0                            Braund, Mr. Owen Harris    male  22.0      1   \n",
              "1  Cumings, Mrs. John Bradley (Florence Briggs Th...  female  38.0      1   \n",
              "2                             Heikkinen, Miss. Laina  female  26.0      0   \n",
              "3       Futrelle, Mrs. Jacques Heath (Lily May Peel)  female  35.0      1   \n",
              "4                           Allen, Mr. William Henry    male  35.0      0   \n",
              "\n",
              "   Parch            Ticket     Fare Cabin Embarked  \n",
              "0      0         A/5 21171   7.2500   NaN        S  \n",
              "1      0          PC 17599  71.2833   C85        C  \n",
              "2      0  STON/O2. 3101282   7.9250   NaN        S  \n",
              "3      0            113803  53.1000  C123        S  \n",
              "4      0            373450   8.0500   NaN        S  "
            ]
          },
          "metadata": {
            "tags": []
          },
          "execution_count": 2
        }
      ]
    },
    {
      "metadata": {
        "id": "wAtVLPgDHyaM",
        "colab_type": "text"
      },
      "cell_type": "markdown",
      "source": [
        "## Data Cleanup\n",
        "\n",
        "One common thing you'll have to do is _data engineering_. Here, we'll do a simple trivial example where we'll remove the \"Survived\" column from our dataset, and save it under \"outcomes\". We're doing this because that's the column we want to predict. \n",
        "\n",
        "Below we've also defined a utility function to predict scores."
      ]
    },
    {
      "metadata": {
        "id": "ZnmO-HJ2tN1n",
        "colab_type": "code",
        "colab": {
          "base_uri": "https://localhost:8080/",
          "height": 17
        },
        "outputId": "1ebeb99b-025d-4063-e113-f01bc935cb98"
      },
      "cell_type": "code",
      "source": [
        "outcomes = full_data['Survived']\n",
        "data = full_data.drop('Survived', axis = 1)\n",
        "data.head()\n",
        "\n",
        "def accuracy_score(truth, pred, name):\n",
        "    \"\"\" Returns accuracy score for input truth and predictions. \"\"\"\n",
        "\n",
        "    if len(truth) == len(pred):\n",
        "        # Calculate and return the accuracy as a percent\n",
        "        # {:2f}.format((truth == pred).mean()*100)\n",
        "        # \":\" represents format specification\n",
        "        # \"2f\" represents 2 decimal places\n",
        "        return \"{} Predictions have an accuracy of {:.2f}.\".format(name, (truth == pred).mean()*100)\n",
        "    else:\n",
        "        return \"Number of predictions does not match number of outcomes!\"\n",
        "\n"
      ],
      "execution_count": 3,
      "outputs": []
    },
    {
      "metadata": {
        "id": "UOaeC4NmwpcC",
        "colab_type": "code",
        "colab": {
          "base_uri": "https://localhost:8080/",
          "height": 34
        },
        "outputId": "5ed27459-d49e-4825-9810-62f0c2387c8d"
      },
      "cell_type": "code",
      "source": [
        "def predict_everyone_survives():\n",
        "  predictions = []\n",
        "  for index, passenger in data.iterrows():\n",
        "    predictions.append(1)\n",
        "  return predictions\n",
        "\n",
        "predictions = predict_everyone_survives()\n",
        "accuracy_score(outcomes, predictions, \"Everyone Survives\")\n",
        "\n",
        "def predict_everyone_dies():\n",
        "  predictions = []\n",
        "  for index, passenger in data.iterrows():\n",
        "    predictions.append(0)\n",
        "  return predictions\n",
        "\n",
        "\n",
        "  \n",
        "\n",
        "predictions = predict_everyone_dies()\n",
        "accuracy_score(outcomes, predictions, \"Everyone Dies\")\n"
      ],
      "execution_count": 7,
      "outputs": [
        {
          "output_type": "execute_result",
          "data": {
            "text/plain": [
              "'Everyone Dies Predictions have an accuracy of 61.62.'"
            ]
          },
          "metadata": {
            "tags": []
          },
          "execution_count": 7
        }
      ]
    },
    {
      "metadata": {
        "id": "msHpQN4NINNN",
        "colab_type": "text"
      },
      "cell_type": "markdown",
      "source": [
        "## Exploring Data\n",
        "\n",
        "We have a utility graph function called survival_stats. Let's use it and explore a few different features..."
      ]
    },
    {
      "metadata": {
        "id": "FoXwsFkH4Srp",
        "colab_type": "code",
        "colab": {
          "base_uri": "https://localhost:8080/",
          "height": 403
        },
        "outputId": "e54bd54d-328a-4d25-bfdc-132d41b509ff"
      },
      "cell_type": "code",
      "source": [
        "survival_stats(data, outcomes, 'Sex')"
      ],
      "execution_count": 11,
      "outputs": [
        {
          "output_type": "display_data",
          "data": {
            "image/png": "[encoded data removed]",
            "text/plain": [
              "<matplotlib.figure.Figure at 0x7f82503712d0>"
            ]
          },
          "metadata": {
            "tags": []
          }
        }
      ]
    },
    {
      "metadata": {
        "id": "_ons56xj6wdH",
        "colab_type": "code",
        "colab": {}
      },
      "cell_type": "code",
      "source": [
        "def predict_men_died():\n",
        "   \"\"\" Model with one feature: \n",
        "            - Predict a passenger survived if they are female. \"\"\"\n",
        "   predictions = []\n",
        "   for index, passenger in data.iterrows():\n",
        "        if passenger['Sex'] == 'female':\n",
        "            predictions.append(1)\n",
        "        else:\n",
        "            predictions.append(0)\n",
        "\n",
        "            return pd.Series(predictions)\n",
        "\n",
        "# Make the predictions\n",
        "predictions = predict_men_died()\n",
        "print(accuracy_score(outcomes, predictions, \"Men Died\"))\n"
      ],
      "execution_count": 0,
      "outputs": []
    },
    {
      "metadata": {
        "id": "mcB7VRv77MZ8",
        "colab_type": "text"
      },
      "cell_type": "markdown",
      "source": [
        "## Simple Warmup Exercise: Write code to predict that all women died.\n"
      ]
    },
    {
      "metadata": {
        "id": "Q-6za0a6BwKl",
        "colab_type": "code",
        "colab": {}
      },
      "cell_type": "code",
      "source": [
        "def predict_women_died():\n",
        "      \"\"\" Model with two features: \n",
        "            - Predict a passenger survived if they are female.\n",
        "            - Predict a passenger survived if they are male and younger than 10. \"\"\"\n",
        "\n",
        "    predictions = []\n",
        "    for index, passenger in data.iterrows():\n",
        "        # Remove the 'pass' statement below \n",
        "        # and write your prediction conditions here\n",
        "        pass\n",
        "\n",
        "    # Return our predictions\n",
        "    return pd.Series(predictions)\n",
        "  \n",
        "predictions = predict_women_died()\n",
        "print(accuracy_score(outcomes, predictions, \"Women Died\"))"
      ],
      "execution_count": 0,
      "outputs": []
    },
    {
      "metadata": {
        "id": "Sw3qMLEyCNlf",
        "colab_type": "code",
        "colab": {
          "base_uri": "https://localhost:8080/",
          "height": 403
        },
        "outputId": "221bb0f3-a524-4522-a7cd-b64385f97331"
      },
      "cell_type": "code",
      "source": [
        "survival_stats(data, outcomes, 'Age', [\"Sex == 'male'\"])"
      ],
      "execution_count": 12,
      "outputs": [
        {
          "output_type": "display_data",
          "data": {
            "image/png": "[encoded data removed]",
            "text/plain": [
              "<matplotlib.figure.Figure at 0x7f824f0e5490>"
            ]
          },
          "metadata": {
            "tags": []
          }
        }
      ]
    },
    {
      "metadata": {
        "id": "Lecc9S0zCw3Q",
        "colab_type": "text"
      },
      "cell_type": "markdown",
      "source": [
        "## Second Exercise\n",
        "\n",
        "Looks like there's a strong correlation with age, for men.  Can you create a new function that returns a prediction that takes a man's age into account?\n",
        "\n",
        "In summary:\n",
        "* Women Survive.\n",
        "* Men who are older than 10 died."
      ]
    },
    {
      "metadata": {
        "id": "hzqj4MeVDIWr",
        "colab_type": "code",
        "colab": {}
      },
      "cell_type": "code",
      "source": [
        "def predictions_2():\n",
        "    \"\"\" Model with two features: \n",
        "            - Predict a passenger survived if they are female.\n",
        "            - Predict a passenger survived if they are male and younger than 10. \"\"\"\n",
        "\n",
        "    predictions = []\n",
        "    for index, passenger in data.iterrows():\n",
        "        # Remove the 'pass' statement below \n",
        "        # and write your prediction conditions here\n",
        "        pass\n",
        "\n",
        "    # Return our predictions\n",
        "    return pd.Series(predictions)\n",
        "  \n",
        "predictions = predictions_2()\n",
        "print(accuracy_score(outcomes, predictions, \"Men Over 10 Died\"))"
      ],
      "execution_count": 0,
      "outputs": []
    },
    {
      "metadata": {
        "id": "BhEPjzaHI6aD",
        "colab_type": "text"
      },
      "cell_type": "markdown",
      "source": [
        "## Final Exercise - Getting to 80%\n",
        "\n",
        "Exploring the data, I'm going to add one more attribute: Pclass. Looks like the rich people survived. "
      ]
    },
    {
      "metadata": {
        "id": "5AxZ7TlxGB4k",
        "colab_type": "code",
        "colab": {}
      },
      "cell_type": "code",
      "source": [
        "survival_stats(data, outcomes, 'Pclass')\n",
        "\n",
        "def predictions_3():\n",
        "    \"\"\" Model with two features: \n",
        "            - Predict a passenger survived if they are female.\n",
        "            - Predict a passenger survived if they are male and younger than 10. \"\"\"\n",
        "\n",
        "    predictions = []\n",
        "    for index, passenger in data.iterrows():\n",
        "        # Remove the 'pass' statement below \n",
        "        # and write your prediction conditions here\n",
        "        if passenger['Sex'] == 'female':\n",
        "            predictions.append(1)\n",
        "        elif (passenger['Sex'] == 'male') & (passenger['Age'] < 10) & (passenger['Pclass'] < 3):\n",
        "            predictions.append(1)\n",
        "        else:\n",
        "            predictions.append(0)\n",
        "\n",
        "\n",
        "    # Return our predictions\n",
        "    return pd.Series(predictions)\n",
        "  \n",
        "predictions = predictions_3()\n",
        "print(accuracy_score(outcomes, predictions, \"Men Over 10 Died\"))"
      ],
      "execution_count": 0,
      "outputs": []
    },
    {
      "metadata": {
        "id": "QUg-YrPvJEYe",
        "colab_type": "text"
      },
      "cell_type": "markdown",
      "source": [
        "## Reflection\n",
        "\n",
        "I think our classifier works, evidenced by the famous movie. Jack was PClass 3, Male, and over 10. \n",
        "\n",
        "![alt text](https://hips.hearstapps.com/hmg-prod.s3.amazonaws.com/images/titanic-jack-1485877267.gif?crop=1xw:1xh;center,top&resize=480:*)\n",
        "\n",
        "Rose was female, PClass 1. She had a good chance to survive. \n",
        "\n",
        "We could have skipped watching the movie and predicted the outcome from the beginning."
      ]
    }
  ]
}